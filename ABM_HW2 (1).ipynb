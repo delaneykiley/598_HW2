{
  "nbformat": 4,
  "nbformat_minor": 0,
  "metadata": {
    "colab": {
      "provenance": []
    },
    "kernelspec": {
      "name": "ir",
      "display_name": "R"
    },
    "language_info": {
      "name": "R"
    }
  },
  "cells": [
    {
      "cell_type": "markdown",
      "source": [
        "Kiley Delaney/kileyfd2/675040797\n",
        "CS 598 Advanced Bayesian Modeling Assignment 2"
      ],
      "metadata": {
        "id": "Z6pJG5JPDG2N"
      }
    },
    {
      "cell_type": "code",
      "source": [
        "install.packages(\"coda\")"
      ],
      "metadata": {
        "colab": {
          "base_uri": "https://localhost:8080/"
        },
        "id": "2gnR1a_l_6wz",
        "outputId": "a175d5b3-57f7-40ce-ab00-73810dcb6ca6"
      },
      "execution_count": 12,
      "outputs": [
        {
          "output_type": "stream",
          "name": "stderr",
          "text": [
            "Installing package into ‘/usr/local/lib/R/site-library’\n",
            "(as ‘lib’ is unspecified)\n",
            "\n"
          ]
        }
      ]
    },
    {
      "cell_type": "code",
      "source": [
        "install.packages(\"rjags\")"
      ],
      "metadata": {
        "colab": {
          "base_uri": "https://localhost:8080/"
        },
        "id": "cZvyoP3IB8Kz",
        "outputId": "5effdd10-3c01-4355-c629-f6f7d89f5d81"
      },
      "execution_count": 14,
      "outputs": [
        {
          "output_type": "stream",
          "name": "stderr",
          "text": [
            "Installing package into ‘/usr/local/lib/R/site-library’\n",
            "(as ‘lib’ is unspecified)\n",
            "\n",
            "Warning message in install.packages(\"rjags\"):\n",
            "“installation of package ‘rjags’ had non-zero exit status”\n"
          ]
        }
      ]
    },
    {
      "cell_type": "markdown",
      "source": [
        "# Problem 1"
      ],
      "metadata": {
        "id": "LPGZd3zyqInm"
      }
    },
    {
      "cell_type": "markdown",
      "source": [
        "(a) The first prior formulation was\n",
        "\n",
        "$θ_j$ | $α, β \\sim$ Beta($α, β$)\n",
        "\n",
        "$α, β \\sim$ Expon(0.001)\n"
      ],
      "metadata": {
        "id": "SAFfU0pjqNzX"
      }
    },
    {
      "cell_type": "markdown",
      "source": [
        "(i)  Independently simulate 1000 pairs (α, β) from their hyperprior, and\n",
        "produce a scatterplot of log(β) versus log(α)."
      ],
      "metadata": {
        "id": "V64d5BVtLz6R"
      }
    },
    {
      "cell_type": "code",
      "source": [
        "alpha <- rexp(n = 1000, rate =0.001)\n",
        "beta <- rexp(n = 1000, rate =0.001)\n",
        "plot(log(alpha), log(beta), pch=\".\", cex=2)"
      ],
      "metadata": {
        "colab": {
          "base_uri": "https://localhost:8080/",
          "height": 437
        },
        "id": "Zr-IuigLMShP",
        "outputId": "10964f59-225c-4461-bb21-6c0e8cd5161f"
      },
      "execution_count": null,
      "outputs": [
        {
          "output_type": "display_data",
          "data": {
            "text/plain": [
              "plot without title"
            ],
            "image/png": "[encoded data removed]"
          },
          "metadata": {
            "image/png": {
              "width": 420,
              "height": 420
            }
          }
        }
      ]
    },
    {
      "cell_type": "markdown",
      "source": [
        "(ii) Using the simulated pairs (α, β), forward-simulate $θ_1$, and produce a\n",
        "histogram of the result (an approximation of its marginal prior)."
      ],
      "metadata": {
        "id": "MdiFkdeIL3rV"
      }
    },
    {
      "cell_type": "markdown",
      "source": [
        "(b) The second prior formulation was\n",
        "\n"
      ],
      "metadata": {
        "id": "7yoS7P9RMAne"
      }
    },
    {
      "cell_type": "markdown",
      "source": [
        "# Problem 2"
      ],
      "metadata": {
        "id": "c82a6gud5tAA"
      }
    },
    {
      "cell_type": "markdown",
      "source": [
        "(a) Specify improper densities that the proper hyperpriors given above are\n",
        "apparently intended to approximate. (Which parameters are the hyperparameters?)"
      ],
      "metadata": {
        "id": "tvlPw-N259u6"
      }
    },
    {
      "cell_type": "markdown",
      "source": [
        "The hyperparameters are as follows:\n",
        "\n",
        "$ψ_0 ∼ $ N($0, 1000^2$)\n",
        "\n",
        "$\\sigma_0 ∼ $ U($0, 1000$)"
      ],
      "metadata": {
        "id": "t_AUBhlJ6uHW"
      }
    },
    {
      "cell_type": "markdown",
      "source": [
        "(b) Draw a directed acyclic graph (DAG) appropriate for this model. (Use the\n",
        "notation introduced in lecture, including “plates.”) You may draw it neatly by hand or use software."
      ],
      "metadata": {
        "id": "1up1SnFW4lr5"
      }
    },
    {
      "cell_type": "markdown",
      "source": [
        "Graph image TK"
      ],
      "metadata": {
        "id": "V6F8UkiH-cJj"
      }
    },
    {
      "cell_type": "markdown",
      "source": [
        "(c) Using the template asgn2template.bug provided on the course website, form a\n",
        "JAGS model statement (consistent with your DAG). Show your JAGS code.\n",
        "[Remember: JAGS “dnorm” uses precisions, not variance]"
      ],
      "metadata": {
        "id": "EMOEvYdY4oub"
      }
    },
    {
      "cell_type": "code",
      "source": [
        "library(rjags)"
      ],
      "metadata": {
        "colab": {
          "base_uri": "https://localhost:8080/",
          "height": 106
        },
        "id": "ENAL5RNA-69C",
        "outputId": "9ba94833-7b6a-4417-f488-a1d6d9a3bb4a"
      },
      "execution_count": 15,
      "outputs": [
        {
          "output_type": "error",
          "ename": "ERROR",
          "evalue": "Error in library(rjags): there is no package called ‘rjags’\n",
          "traceback": [
            "Error in library(rjags): there is no package called ‘rjags’\nTraceback:\n",
            "1. stop(packageNotFoundError(package, lib.loc, sys.call()))"
          ]
        }
      ]
    },
    {
      "cell_type": "code",
      "source": [
        "'model {\n",
        "  for (j in 1:12) {\n",
        "    psihat[j] ~ dnorm(psi[j], 1/sigma[j]^2)\n",
        "    psi[j] ~ dnorm(psi0, 1/sigma0^2)\n",
        "  }\n",
        "\n",
        "  psi0 ~ dnorm(0,1/1000^2)\n",
        "  sigma0 ~ dunif(0,1000)\n",
        "\n",
        "  sigmasq0 <- sigma0^2\n",
        "}'"
      ],
      "metadata": {
        "colab": {
          "base_uri": "https://localhost:8080/",
          "height": 52
        },
        "id": "LPKCS423-d2c",
        "outputId": "7e1fcd3e-ae0c-4f74-942a-4bebcc0a1390"
      },
      "execution_count": 17,
      "outputs": [
        {
          "output_type": "display_data",
          "data": {
            "text/html": [
              "<span style=white-space:pre-wrap>'model {\\n  for (j in 1:12) {\\n    psihat[j] ~ dnorm(psi[j], 1/sigma[j]^2)\\n    psi[j] ~ dnorm(psi0, 1/sigma0^2)\\n  }\\n\\n  psi0 ~ dnorm(0,1/1000^2)\\n  sigma0 ~ dunif(0,1000)\\n\\n  sigmasq0 &lt;- sigma0^2\\n}'</span>"
            ],
            "text/markdown": "<span style=white-space:pre-wrap>'model {\\n  for (j in 1:12) {\\n    psihat[j] ~ dnorm(psi[j], 1/sigma[j]^2)\\n    psi[j] ~ dnorm(psi0, 1/sigma0^2)\\n  }\\n\\n  psi0 ~ dnorm(0,1/1000^2)\\n  sigma0 ~ dunif(0,1000)\\n\\n  sigmasq0 &lt;- sigma0^2\\n}'</span>",
            "text/latex": "'model \\{\\textbackslash{}n  for (j in 1:12) \\{\\textbackslash{}n    psihat{[}j{]} \\textasciitilde{} dnorm(psi{[}j{]}, 1/sigma{[}j{]}\\textasciicircum{}2)\\textbackslash{}n    psi{[}j{]} \\textasciitilde{} dnorm(psi0, 1/sigma0\\textasciicircum{}2)\\textbackslash{}n  \\}\\textbackslash{}n\\textbackslash{}n  psi0 \\textasciitilde{} dnorm(0,1/1000\\textasciicircum{}2)\\textbackslash{}n  sigma0 \\textasciitilde{} dunif(0,1000)\\textbackslash{}n\\textbackslash{}n  sigmasq0 <- sigma0\\textasciicircum{}2\\textbackslash{}n\\}'",
            "text/plain": [
              "[1] \"model {\\n  for (j in 1:12) {\\n    psihat[j] ~ dnorm(psi[j], 1/sigma[j]^2)\\n    psi[j] ~ dnorm(psi0, 1/sigma0^2)\\n  }\\n\\n  psi0 ~ dnorm(0,1/1000^2)\\n  sigma0 ~ dunif(0,1000)\\n\\n  sigmasq0 <- sigma0^2\\n}\""
            ]
          },
          "metadata": {}
        }
      ]
    },
    {
      "cell_type": "markdown",
      "source": [
        "(d) Set up any R (rjags) statements appropriate for creating a JAGS model. Show\n",
        "your R code, and also show (print) the R list or data frame that you are passing to JAGS. Double check that the variable names in the list or data frame exactly match the corresponding names in your JAGS model, and double check your numbers."
      ],
      "metadata": {
        "id": "Gw_gmTCZ4zlJ"
      }
    },
    {
      "cell_type": "code",
      "source": [
        "d <- read.table(\"thenumbers.txt\", header=FALSE)\n",
        "colnames(d) <- c(\"psi\", \"sigma\")"
      ],
      "metadata": {
        "id": "3GQ5EinyDOXw"
      },
      "execution_count": 18,
      "outputs": []
    },
    {
      "cell_type": "code",
      "source": [
        "d"
      ],
      "metadata": {
        "colab": {
          "base_uri": "https://localhost:8080/",
          "height": 224
        },
        "id": "Qw0ZVcuuDR4D",
        "outputId": "41a12d8c-fe46-4cfc-b9b5-6524c18b0313"
      },
      "execution_count": 19,
      "outputs": [
        {
          "output_type": "display_data",
          "data": {
            "text/html": [
              "<table class=\"dataframe\">\n",
              "<caption>A data.frame: 4 × 9</caption>\n",
              "<thead>\n",
              "\t<tr><th scope=col>psi</th><th scope=col>sigma</th><th scope=col>NA</th><th scope=col>NA</th><th scope=col>NA</th><th scope=col>NA</th><th scope=col>NA</th><th scope=col>NA</th><th scope=col>NA</th></tr>\n",
              "\t<tr><th scope=col>&lt;int&gt;</th><th scope=col>&lt;dbl&gt;</th><th scope=col>&lt;dbl&gt;</th><th scope=col>&lt;int&gt;</th><th scope=col>&lt;dbl&gt;</th><th scope=col>&lt;dbl&gt;</th><th scope=col>&lt;int&gt;</th><th scope=col>&lt;dbl&gt;</th><th scope=col>&lt;dbl&gt;</th></tr>\n",
              "</thead>\n",
              "<tbody>\n",
              "\t<tr><td>1</td><td> 1.055</td><td>0.373</td><td>5</td><td> 1.068</td><td>0.471</td><td> 9</td><td>0.507</td><td>0.186</td></tr>\n",
              "\t<tr><td>2</td><td>-0.097</td><td>0.116</td><td>6</td><td>-0.025</td><td>0.120</td><td>10</td><td>0.000</td><td>0.328</td></tr>\n",
              "\t<tr><td>3</td><td> 0.626</td><td>0.229</td><td>7</td><td>-0.117</td><td>0.220</td><td>11</td><td>0.385</td><td>0.206</td></tr>\n",
              "\t<tr><td>4</td><td> 0.017</td><td>0.117</td><td>8</td><td>-0.381</td><td>0.239</td><td>12</td><td>0.405</td><td>0.254</td></tr>\n",
              "</tbody>\n",
              "</table>\n"
            ],
            "text/markdown": "\nA data.frame: 4 × 9\n\n| psi &lt;int&gt; | sigma &lt;dbl&gt; | NA &lt;dbl&gt; | NA &lt;int&gt; | NA &lt;dbl&gt; | NA &lt;dbl&gt; | NA &lt;int&gt; | NA &lt;dbl&gt; | NA &lt;dbl&gt; |\n|---|---|---|---|---|---|---|---|---|\n| 1 |  1.055 | 0.373 | 5 |  1.068 | 0.471 |  9 | 0.507 | 0.186 |\n| 2 | -0.097 | 0.116 | 6 | -0.025 | 0.120 | 10 | 0.000 | 0.328 |\n| 3 |  0.626 | 0.229 | 7 | -0.117 | 0.220 | 11 | 0.385 | 0.206 |\n| 4 |  0.017 | 0.117 | 8 | -0.381 | 0.239 | 12 | 0.405 | 0.254 |\n\n",
            "text/latex": "A data.frame: 4 × 9\n\\begin{tabular}{lllllllll}\n psi & sigma & NA & NA & NA & NA & NA & NA & NA\\\\\n <int> & <dbl> & <dbl> & <int> & <dbl> & <dbl> & <int> & <dbl> & <dbl>\\\\\n\\hline\n\t 1 &  1.055 & 0.373 & 5 &  1.068 & 0.471 &  9 & 0.507 & 0.186\\\\\n\t 2 & -0.097 & 0.116 & 6 & -0.025 & 0.120 & 10 & 0.000 & 0.328\\\\\n\t 3 &  0.626 & 0.229 & 7 & -0.117 & 0.220 & 11 & 0.385 & 0.206\\\\\n\t 4 &  0.017 & 0.117 & 8 & -0.381 & 0.239 & 12 & 0.405 & 0.254\\\\\n\\end{tabular}\n",
            "text/plain": [
              "  psi sigma  <NA>  <NA> <NA>   <NA>  <NA> <NA>  <NA> \n",
              "1 1    1.055 0.373 5     1.068 0.471  9   0.507 0.186\n",
              "2 2   -0.097 0.116 6    -0.025 0.120 10   0.000 0.328\n",
              "3 3    0.626 0.229 7    -0.117 0.220 11   0.385 0.206\n",
              "4 4    0.017 0.117 8    -0.381 0.239 12   0.405 0.254"
            ]
          },
          "metadata": {}
        }
      ]
    },
    {
      "cell_type": "markdown",
      "source": [
        "(e) Run at least 10,000 iterations of burn-in, then 100,000 iterations to use for inference. For both $ψ_0$ and $σ^2_0$ (not $σ_0$), produce a posterior numerical summary and also graphical estimates of the posterior densities. Explicitly give the approximations of their posterior expected values, posterior standard deviations, and 95% central posterior intervals. (Just showing R output is not enough!)"
      ],
      "metadata": {
        "id": "pFUZe_7O4-yP"
      }
    },
    {
      "cell_type": "markdown",
      "source": [
        "(f) Suppose a new case-control study is to be performed, and assume that its log-odds standard error (new σ) will be 0.125. Assume the ψ for the new study is exchangeable with those for the previous studies (under the Bayesian model).\n",
        "\n",
        "\n",
        "Use at least 10,000 iterations of burn-in, and 100,000 for inference as before."
      ],
      "metadata": {
        "id": "bMQq7Qp_5gD6"
      }
    },
    {
      "cell_type": "markdown",
      "source": [
        "[i] Re-draw your DAG, adding new nodes to represent the new $\\hat{ψ}$ and new ψ."
      ],
      "metadata": {
        "id": "lnfdMgl65kw2"
      }
    },
    {
      "cell_type": "markdown",
      "source": [
        "[ii] s] Correspondingly modify your JAGS model to answer the following parts.\n",
        "Show the modified JAGS and R code and output that you used."
      ],
      "metadata": {
        "id": "UwN9YgwP56jV"
      }
    },
    {
      "cell_type": "markdown",
      "source": [
        "[iii] Approximate the posterior mean and posterior standard deviation, and\n",
        "form an approximate 95% central posterior predictive interval for the estimated\n",
        "log-odds ratio that the new study will obtain. (Remember, this new estimated\n",
        "log-odds ratio will be the new $\\hat{ψ}$, not the new ψ)."
      ],
      "metadata": {
        "id": "UzispVRm5_Up"
      }
    },
    {
      "cell_type": "markdown",
      "source": [
        "[iv] Approximate the posterior predictive probability that the new estimated\n",
        "log-odds ratio will be at least twice its standard error, i.e., at least two standard errors (2σ) greater than zero. (This is roughly the posterior probability that the new study will find a statistically significant result, and in the positive direction.) Suggestion: Add an indicator variable to your JAGS model - one that equals 1 when the event occurs, and 0 otherwise. (What is its mean?)"
      ],
      "metadata": {
        "id": "4DCUpoQ36Lbd"
      }
    }
  ]
}